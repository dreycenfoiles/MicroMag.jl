{
 "cells": [
  {
   "cell_type": "code",
   "execution_count": 1,
   "metadata": {},
   "outputs": [],
   "source": [
    "# using FFTW \n",
    "using LinearAlgebra\n",
    "using CUDA\n",
    "using CUDA.CUFFT\n",
    "using BenchmarkTools"
   ]
  },
  {
   "cell_type": "code",
   "execution_count": 24,
   "metadata": {},
   "outputs": [
    {
     "data": {
      "text/plain": [
       "Exchange! (generic function with 1 method)"
      ]
     },
     "metadata": {},
     "output_type": "display_data"
    }
   ],
   "source": [
    "function neumann_bc(x, n)\n",
    "\n",
    "    if x == n + 1\n",
    "        return x - 1\n",
    "    elseif x == 0\n",
    "        return x + 1\n",
    "    else\n",
    "        return x\n",
    "    end\n",
    "\n",
    "end\n",
    "\n",
    "\n",
    "function Exchange_kernel(H_exch, M, dx, dy, dz)\n",
    "\n",
    "    nc, nx, ny, nz = size(M)\n",
    "\n",
    "    c = blockIdx().x \n",
    "    j = blockIdx().y\n",
    "    i = threadIdx().x\n",
    "\n",
    "    ip1 = neumann_bc(i + 1, nx)\n",
    "    im1 = neumann_bc(i - 1, nx)\n",
    "    jp1 = neumann_bc(j + 1, ny)\n",
    "    jm1 = neumann_bc(j - 1, ny)\n",
    "\n",
    "   H_exch[c, i, j, 1] = (M[c, ip1, j, 1] - 2 * M[c, i, j, 1] + M[c, im1, j, 1]) / dx / dx +\n",
    "                        (M[c, i, jp1, 1] - 2 * M[c, i, j, 1] + M[c, i, jm1, 1]) / dy / dy\n",
    "\n",
    "    nothing\n",
    "end \n",
    "\n",
    "function Exchange!(H_exch, M, exch, dx, dy, dz)\n",
    "\n",
    "    nc, nx, ny, nz = size(M)\n",
    "\n",
    "    @cuda blocks=(nc, ny) threads=nx Exchange_kernel(H_exch, M, dx, dy, dz)\n",
    "\n",
    "    H_exch .*= exch\n",
    "\n",
    "    return\n",
    "end"
   ]
  },
  {
   "cell_type": "code",
   "execution_count": 26,
   "metadata": {},
   "outputs": [
    {
     "name": "stdout",
     "output_type": "stream",
     "text": [
      "  10.100 μs (16 allocations: 912 bytes)\n"
     ]
    }
   ],
   "source": [
    "nx = 200\n",
    "ny = 200\n",
    "nz = 1\n",
    "Ms = 800\n",
    "\n",
    "dd = 3\n",
    "exch = 1\n",
    "\n",
    "H_exch = CUDA.zeros(3, nx, ny, nz);\n",
    "M = CUDA.zeros(3, nx, ny, nz);\n",
    "M[1, :, :, 1] .= Ms\n",
    "M[1, 1, :, ] .= Ms/2\n",
    "\n",
    "\n",
    "@btime Exchange!(H_exch, M, exch, dd, dd, dd)"
   ]
  }
 ],
 "metadata": {
  "kernelspec": {
   "display_name": "Julia 1.7.2",
   "language": "julia",
   "name": "julia-1.7"
  },
  "language_info": {
   "file_extension": ".jl",
   "mimetype": "application/julia",
   "name": "julia",
   "version": "1.7.2"
  },
  "orig_nbformat": 4,
  "vscode": {
   "interpreter": {
    "hash": "5f4d3a88f07247b0a74ebcb639a7867f668f93ac681fc6eec015e64f8cbac171"
   }
  }
 },
 "nbformat": 4,
 "nbformat_minor": 2
}
